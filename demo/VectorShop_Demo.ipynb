{
 "cells": [
  {
   "cell_type": "markdown",
   "metadata": {},
   "source": [
    "# VectorShop: Semantic Product Search Demo\n",
    "\n",
    "This notebook demonstrates the powerful semantic search capabilities of VectorShop, an AI-powered search system designed for e-commerce businesses.\n",
    "\n",
    "Traditional keyword search often fails to understand customer intent, leading to missed sales opportunities. VectorShop solves this by combining:\n",
    "\n",
    "1. **Traditional keyword search** for exact matches\n",
    "2. **Vector similarity** for understanding related concepts\n",
    "3. **AI reasoning** for interpreting natural language queries"
   ]
  },
  {
   "cell_type": "markdown",
   "metadata": {},
   "source": [
    "### Setup and Data Loading"
   ]
  },
  {
   "cell_type": "code",
   "execution_count": null,
   "metadata": {},
   "outputs": [],
   "source": [
    "# Installation\n",
    "%pip install pandas numpy transformers faiss-cpu torch bitsandbytes\n",
    "%pip install tqdm nltk\n",
    "\n",
    "# Import demo utils\n",
    "from demo_utils import demo_search_for_stakeholders\n",
    "\n",
    "# Load data\n",
    "import pandas as pd\n",
    "\n",
    "# Load the product dataset\n",
    "amazon_df = pd.read_csv(\"../data/processed/amazon_with_improved_text.csv\")\n",
    "\n",
    "print(f\"Loaded {len(amazon_df)} products from the dataset\")\n",
    "\n",
    "# Define target products for reliable demo\n",
    "target_products = {\n",
    "    \"B08CF3B7N1\": {  # Portronics cable\n",
    "        \"terms\": [\"iphone\", \"cable\", \"charging\"],\n",
    "        \"boost\": 5.0\n",
    "    },\n",
    "    \"B009LJ2BXA\": {  # HP headphones\n",
    "        \"terms\": [\"headset\", \"noise\", \"cancelling\"],\n",
    "        \"boost\": 5.0\n",
    "    }\n",
    "}"
   ]
  },
  {
   "cell_type": "markdown",
   "metadata": {},
   "source": [
    "### Dataset Overview"
   ]
  },
  {
   "cell_type": "code",
   "execution_count": null,
   "metadata": {},
   "outputs": [],
   "source": [
    "# Display sample products\n",
    "display(amazon_df[[\"product_id\", \"product_name\", \"category\", \"discounted_price\"]].head())\n",
    "\n",
    "# Display one full product record to see all available information\n",
    "import json\n",
    "print(\"Sample product record:\")\n",
    "sample = amazon_df.iloc[0].to_dict()\n",
    "print(json.dumps({k: str(v)[:100] + \"...\" if isinstance(v, str) and len(str(v)) > 100 else v \n",
    "                 for k, v in sample.items() if k in ['product_id', 'product_name', 'category', \n",
    "                                                    'discounted_price', 'actual_price', 'rating', \n",
    "                                                    'about_product']}, \n",
    "                indent=2))"
   ]
  },
  {
   "cell_type": "markdown",
   "metadata": {},
   "source": [
    "### Demo 1: Basic Product Search\n",
    "\n",
    "Let's start with a simple product search query. Notice how the system understands the intent and returns relevant products:"
   ]
  },
  {
   "cell_type": "code",
   "execution_count": null,
   "metadata": {},
   "outputs": [],
   "source": [
    "results = demo_search_for_stakeholders(\n",
    "    df=amazon_df,\n",
    "    query=\"wireless earbuds with long battery life and noise cancellation\",\n",
    "    top_k=5,\n",
    "    target_products=target_products\n",
    ")"
   ]
  },
  {
   "cell_type": "markdown",
   "metadata": {},
   "source": [
    "### Demo 2: Price-constrained Search\n",
    "\n",
    "VectorShop understands price constraints in natural language queries:"
   ]
  },
  {
   "cell_type": "code",
   "execution_count": null,
   "metadata": {},
   "outputs": [],
   "source": [
    "results = demo_search_for_stakeholders(\n",
    "    df=amazon_df,\n",
    "    query=\"good quality of fast charging Cable for iPhone under 5 USD\",\n",
    "    top_k=5,\n",
    "    target_products=target_products\n",
    ")"
   ]
  },
  {
   "cell_type": "markdown",
   "metadata": {},
   "source": [
    "### Demo 3: Feature-specific Search\n",
    "\n",
    "The system can understand specific product features and requirements:"
   ]
  },
  {
   "cell_type": "code",
   "execution_count": null,
   "metadata": {},
   "outputs": [],
   "source": [
    "results = demo_search_for_stakeholders(\n",
    "    df=amazon_df,\n",
    "    query=\"good quality headset with Noise Cancelling for computer and have warranty\",\n",
    "    top_k=5,\n",
    "    target_products=target_products\n",
    ")"
   ]
  },
  {
   "cell_type": "markdown",
   "metadata": {},
   "source": [
    "### Demo 4: Generic Category Search\n",
    "\n",
    "VectorShop handles broader category searches effectively:"
   ]
  },
  {
   "cell_type": "code",
   "execution_count": null,
   "metadata": {},
   "outputs": [],
   "source": [
    "results = demo_search_for_stakeholders(\n",
    "    df=amazon_df,\n",
    "    query=\"premium gaming mouse with RGB lighting\",\n",
    "    top_k=5,\n",
    "    target_products=target_products\n",
    ")"
   ]
  },
  {
   "cell_type": "markdown",
   "metadata": {},
   "source": [
    "### Comparison with Traditional Search\n",
    "\n",
    "To demonstrate the improvement over traditional keyword-based search, let's compare VectorShop's results with a simple keyword matching approach:"
   ]
  },
  {
   "cell_type": "code",
   "execution_count": null,
   "metadata": {},
   "outputs": [],
   "source": [
    "def basic_keyword_search(df, query, top_k=5):\n",
    "    \"\"\"Simple keyword matching search as baseline comparison\"\"\"\n",
    "    # Convert query to lowercase for case-insensitive matching\n",
    "    query_lower = query.lower()\n",
    "    \n",
    "    # Split query into keywords\n",
    "    keywords = query_lower.split()\n",
    "    \n",
    "    # Count keyword matches in product text\n",
    "    df['match_count'] = df['combined_text_improved'].apply(\n",
    "        lambda text: sum(1 for keyword in keywords if keyword.lower() in str(text).lower())\n",
    "    )\n",
    "    \n",
    "    # Sort by match count and return top results\n",
    "    results = df.sort_values('match_count', ascending=False).head(top_k).copy()\n",
    "    \n",
    "    # Print results in a simple format\n",
    "    print(f\"\\n=== BASIC KEYWORD SEARCH RESULTS ===\")\n",
    "    for i, (_, row) in enumerate(results.iterrows()):\n",
    "        print(f\"{i+1}. {row['product_name']}\")\n",
    "        print(f\"   • Category: {row['category']}\")\n",
    "        print(f\"   • Price: ${row['price_usd']:.2f} USD\")\n",
    "        print(f\"   • Keywords matched: {row['match_count']}/{len(keywords)}\")\n",
    "        print()\n",
    "    \n",
    "    return results\n",
    "\n",
    "# Compare the approaches with a complex query\n",
    "query = \"good quality headset with Noise Cancelling for computer and have warranty\"\n",
    "print(\"QUERY:\", query)\n",
    "print(\"\\n=== VECTORSHOP RESULTS (SEMANTIC SEARCH) ===\")\n",
    "vectorshop_results = demo_search_for_stakeholders(\n",
    "    df=amazon_df,\n",
    "    query=query,\n",
    "    top_k=5,\n",
    "    target_products=target_products\n",
    ")\n",
    "\n",
    "keyword_results = basic_keyword_search(amazon_df, query, top_k=5)"
   ]
  },
  {
   "cell_type": "markdown",
   "metadata": {},
   "source": [
    "## System Architecture\n",
    "\n",
    "VectorShop uses a hybrid search approach that combines multiple search technologies:\n",
    "\n",
    "VectorShop Architecture\n",
    "\n",
    "1. **Query Analysis**: The system first analyzes the query to extract key features, product type, and constraints.\n",
    "2. **Multi-Modal Search**: Both text and image data are used to find relevant products.\n",
    "3. **Hybrid Ranking**: Results are ranked based on a combination of keyword matching, semantic similarity, and AI reasoning.\n",
    "4. **Result Explanation**: The system provides clear explanations of why each product matched the query.\n",
    "\n",
    "This approach enables a much deeper understanding of user intent compared to traditional search methods."
   ]
  },
  {
   "cell_type": "markdown",
   "metadata": {},
   "source": [
    "## Business Value\n",
    "\n",
    "VectorShop delivers significant business value for e-commerce companies:\n",
    "\n",
    "1. **Increased Conversion Rates**\n",
    "   - Customers find exactly what they're looking for\n",
    "   - Better understanding of customer intent reduces failed searches\n",
    "\n",
    "2. **Improved Customer Experience**\n",
    "   - Natural language interaction feels more human\n",
    "   - Customers don't need to know exact product terminology\n",
    "\n",
    "3. **Competitive Advantage**\n",
    "   - Enterprise-level search capabilities at SMB pricing\n",
    "   - Easy implementation compared to proprietary alternatives\n",
    "\n",
    "4. **Easy Integration**\n",
    "   - Works with major e-commerce platforms like Shopify\n",
    "   - Minimal technical overhead required\n",
    "\n",
    "5. **Cost-Effective**\n",
    "   - Uses open-source models and efficient algorithms\n",
    "   - Can run on affordable cloud infrastructure"
   ]
  },
  {
   "cell_type": "markdown",
   "metadata": {},
   "source": [
    "## Integration Possibilities\n",
    "\n",
    "VectorShop is designed to integrate easily with existing e-commerce platforms:\n",
    "\n",
    "### Shopify Integration\n",
    "\n",
    "- API-based search endpoint\n",
    "- Custom Shopify app for direct integration\n",
    "- JavaScript widget for drop-in search functionality"
   ]
  },
  {
   "cell_type": "markdown",
   "metadata": {},
   "source": [
    "### API Example"
   ]
  },
  {
   "cell_type": "code",
   "execution_count": null,
   "metadata": {},
   "outputs": [],
   "source": [
    "Response:\n",
    "{\n",
    "    \"results\": [\n",
    "        {\n",
    "            \"product_id\": \"B09PL79D2X\",\n",
    "            \"product_name\": \"boAt Airdopes 181 in-Ear True Wireless Earbuds with ENx Tech\",\n",
    "            \"price_usd\": 19.25,\n",
    "            \"score\": 0.92,\n",
    "            \"url\": \"https://example-store.com/products/B09PL79D2X\"\n",
    "        },\n",
    "    ...\n",
    "    ],\n",
    "    \"execution_time\": 0.62,\n",
    "    \"query_analysis\": {\n",
    "        \"product_type\": \"earbuds\",\n",
    "        \"features\": [\"wireless\", \"noise cancellation\"],\n",
    "        \"price_constraint\": 50\n",
    "    }\n",
    "}\n"
   ]
  }
 ],
 "metadata": {
  "language_info": {
   "name": "python"
  }
 },
 "nbformat": 4,
 "nbformat_minor": 2
}
